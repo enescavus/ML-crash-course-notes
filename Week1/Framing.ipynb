{
 "cells": [
  {
   "cell_type": "markdown",
   "metadata": {},
   "source": [
    "# Framing"
   ]
  },
  {
   "cell_type": "markdown",
   "metadata": {},
   "source": [
    "---"
   ]
  },
  {
   "cell_type": "markdown",
   "metadata": {},
   "source": [
    "Makine öğrenmesine giriş yaptığımız bu konuyu ne kadar iyi anlarsak ilk haftamız o kadar verimli geçecektir çünkü temel kavramları bu konuda öğreneceğiz.\n",
    "\n",
    "Öncelikle supervised ( gözetimli ) makine öğrenmesi nedir onunla başlayalım.\n",
    "\n",
    "Supervised Learning:\n",
    "\n",
    "Eğer vereceğimiz girdilere karşılık hangi çıktıyı elde edeceğimizi algoritmamıza / makineye söylüyorsak bu gözetimli öğrenmedir.\n",
    "\n",
    "\n",
    "\n",
    "Girdi ve çıktı kavramlarını daha iyi anlamak için **feature ( özellik )** ve **label ( etiket )** terimlerini bir örnek ile inceleyelim.\n",
    "\n",
    "Elimizde bir evin değerini bulan modelimiz olsun. Modelimiz evin değerini bulmak için \n",
    "\n",
    "- toplam oda sayısı ( feature )\n",
    "- metrekare ( feature )\n",
    "- konum ( feature )\n",
    "- kaç yıllık ( feature )\n",
    "\n",
    "gibi bilgileri kullanacak. Bunları modelimize veriyoruz aynı zamanda eğitim veri setimize verdiğimiz bu değerlere karşılık her ev için bir de \"değerini\" ( label ) veriyoruz. İşte bu ikisini de verdiğimiz tip verilerin her birine örnek diyoruz.\n",
    "\n",
    "![example](images/examples.png)\n"
   ]
  },
  {
   "cell_type": "markdown",
   "metadata": {},
   "source": [
    "Peki model nedir? \n",
    "\n",
    "Yukarıda bahsetmiş olduğumuz eğitim bilgilerini ( features - labels) kullanarak bunlar arasında bir ilişki bulmaya modelleme ( eğitim ) diyoruz. \n",
    "\n",
    "- Eğitim: Etiketlenmiş örnekleri modele vermemiz ve bunlar arasında bir ilişki yakalamaya çalışması aşamasıdır.\n",
    "\n",
    "- Sonuç çıkarma: Bu aşamada eğitmiş olduğumuz modele bu kez sadece özellikler veriyoruz ve bunları kullanarak bize evimizin değeri hakkında bir tahminde bulunmasını bekliyoruz. Burada dikkat etmemiz gereken kısım, label ( etiket ) kullanmıyoruz, modelimiz tahmin ediyor."
   ]
  },
  {
   "cell_type": "markdown",
   "metadata": {},
   "source": [
    "### Regresyon vs Sınıflandırma"
   ]
  },
  {
   "cell_type": "markdown",
   "metadata": {},
   "source": [
    "Regresyonda modelimiz sürekli veriler üzerinde tahminde bulunur. Daha çok numeric çıktılar elde ederiz.\n",
    "Örneğin:\n",
    "\n",
    "- Sakarya'da bir evin değeri nedir?\n",
    "- Bir kullanıcının bir reklama tıklama olasılığı nedir?\n",
    "\n",
    "![regression](images/regression.png)\n",
    "\n",
    "Sınıflandırma modelimizde ayrık veriler üzerinde tahminde bulunuruz. Yani kategorik çıktılar:\n",
    "Örneğin:\n",
    "\n",
    "- Bu mail spam mi, spam değil mi?\n",
    "- Bu fotoğraftaki bir kedi mi, köpek mi yoksa bir at mı?\n",
    "\n",
    "\n"
   ]
  },
  {
   "cell_type": "markdown",
   "metadata": {},
   "source": [
    "Ek kaynaklar:\n",
    "\n",
    "- [Course original link](https://developers.google.com/machine-learning/crash-course/framing/ml-terminology)\n",
    "\n",
    "- [Supervised Learning](https://medium.com/algorithms-data-structures/makine-%C3%B6%C4%9Frenmesi-supervised-vs-unsupervised-learning-299b8c639a01)"
   ]
  },
  {
   "cell_type": "markdown",
   "metadata": {},
   "source": [
    "**_Enes Çavuş_**"
   ]
  },
  {
   "cell_type": "markdown",
   "metadata": {},
   "source": []
  }
 ],
 "metadata": {
  "kernelspec": {
   "display_name": "Python 3",
   "language": "python",
   "name": "python3"
  },
  "language_info": {
   "codemirror_mode": {
    "name": "ipython",
    "version": 3
   },
   "file_extension": ".py",
   "mimetype": "text/x-python",
   "name": "python",
   "nbconvert_exporter": "python",
   "pygments_lexer": "ipython3",
   "version": "3.7.6"
  }
 },
 "nbformat": 4,
 "nbformat_minor": 4
}
