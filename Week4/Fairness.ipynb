{
 "cells": [
  {
   "cell_type": "markdown",
   "metadata": {},
   "source": [
    "# Fairness"
   ]
  },
  {
   "cell_type": "markdown",
   "metadata": {},
   "source": [
    "Modelimizi eğitirken kullandığımız verilerde yanlılıklar olabilir? \n",
    "\n",
    "Ne demek istiyoruz? \n",
    "\n",
    "Kullandığımız her veri herkese hitap edemeyebilir. Her ülkeye, her topluluğa, her mevsime, her yüzyıla hitap edemeyebilir. \n",
    "\n",
    "Ya da modelimizi eğitirken yanlı verileri kullanmış olabiliriz. Bu yanlılıkların birçok çeşiti vardır. Biz birkaç tanesini ele alacağız.\n",
    "\n",
    "Not: Tamamladıktan sonra [**bu sorular**](https://developers.google.com/machine-learning/crash-course/fairness/check-your-understanding) üzerinde pratik yapınız."
   ]
  },
  {
   "cell_type": "markdown",
   "metadata": {},
   "source": [
    "### Yanlılık Çeşitleri"
   ]
  },
  {
   "cell_type": "markdown",
   "metadata": {},
   "source": [
    "- **Reporting Bias:** Uç örneklerle modelimizi beslediğinizi düşünün! Örnek olarak -> kitaplar hakkında yorum yapmasını istediğimiz bir modelimiz olsun, sadece 5 ve 1 yıldız yorumları kullanarak modelinizi eğitirseniz o kitap hakkında sağlıklı tahminlerde bulunamayacaktır."
   ]
  },
  {
   "cell_type": "markdown",
   "metadata": {},
   "source": [
    "- **Automation Bias:** Otomatik sistemlerden elde edilen verilerle bir model eğitirseniz, verinin temin edildiği sisteme yanlılık duyan bir model olacaktır. Bu modeli gerçek dünyada ya da otomatik olmayan sistemlerdeki veriler üzerinde denersek tahminlerimizde kötü sonuçlar ile karşılaşabiliriz."
   ]
  },
  {
   "cell_type": "markdown",
   "metadata": {},
   "source": [
    "- **Selection Bias:**\n",
    " - **_Covarage Bias:_** Bir aracın gelecek satışları hakkında tahminde bulunmak isteyelim; bu tahmin için anketimizde sadece bu ürüne gelen müşteri yorumlarını dikkate alırsak sizce ne kadar sağlıklı sonuçlar elde ederiz? Mesela yeni bir aracın çıkması ve o araca gelen yorumlar bizim ele aldığımız araca etki etmez miydi?\n",
    " \n",
    " - **_Non-Response Bias:_** Bu kez farklı ürünlerden de yorumları modele dahil ettiğimizi düşünün ama bir diğer arac için müsterilerimizin büyük bir çoğunluğu ankete katılmamış. Model ister istemez diğer tarafa doğru kayacaktır.\n",
    " \n",
    " - **_Sampling Bias:_** Bu kez her şey yolunda gitti, araclarımıza aynı oranda anket katılımları aldık, fakat mühendisimiz eğitim için sadece belirli bir kısmın verisini kullandı. Hatırlarsanız verilerimiz karıştırmayı tercih ederiz ve mümkün olduğunca fazla veri kullanırız. Burada ise mühendisimiz belli bir veriyi kullanıyor ki bu veri yanlılığa sahip olabilir. Yani sadece belli bir kısma hitap eden yorumlardır ya da ilk aracımıza ait verileri ağırlıklı olarak kullanmıştır."
   ]
  },
  {
   "cell_type": "markdown",
   "metadata": {},
   "source": [
    "- **_Group Attribution Bias:_** ML Engineer'lar için bir CV inceleme modeli hazırlıyorsunuz. Siz seminerler veren, konferanslar yapan birisi olun. Bu model sizin konferanslarınıza katılanları direkt pozitif yorumluyor. Aynı şekilde katılmayanları da negatif yorumluyor. Diğer yeteneklere bakılmaksızın bu gruplama yanlış olur. İşte burada bir grup yanlılığı söz konusu."
   ]
  },
  {
   "cell_type": "markdown",
   "metadata": {},
   "source": [
    "- **Implicit Bias:** Asya bölgesindeki selamlaşma kültürünü biliyoruz. Öne eğilerek insanlar birbirlerine saygı ve sevgi göstergesi olarak selam vermektedir. Biz bu hareketleri selamlaşma olarak modelimize verelim ve eğitelim. Bu modeli farklı bir ülkede kullanmaya çalıştığımızda belki o ülkedeki selamlaşmayı yorumlayamayacak ya da yanlış yorumlayacaktır. Örneğin bazı yerlerde  bu hareket selamlaşmadan ziyade itaat olarak yorumlanıyor olabilir. Ya da el sıkışma bizde selamlaşma iken bir başka ülkede çok farklı anlamlara geliyor olabiir. ( Bunlar sadece genellemedir, gerçeklik hakkında kesin bir şey söyleyemem. Konunun anlaşılması için örnek verilmiştir. ) Yani modelimiz bir yanlılık sergilemektedir."
   ]
  },
  {
   "cell_type": "markdown",
   "metadata": {},
   "source": [
    "Ek Kaynaklar\n",
    "\n",
    "- [Bias Çeşitleri - Course](https://developers.google.com/machine-learning/crash-course/fairness/types-of-bias)\n",
    "- [Video + Ekstra Bilgi](https://developers.google.com/machine-learning/fairness-overview)\n"
   ]
  },
  {
   "cell_type": "markdown",
   "metadata": {},
   "source": [
    "**_Enes Çavuş_**"
   ]
  }
 ],
 "metadata": {
  "kernelspec": {
   "display_name": "Python 3",
   "language": "python",
   "name": "python3"
  },
  "language_info": {
   "codemirror_mode": {
    "name": "ipython",
    "version": 3
   },
   "file_extension": ".py",
   "mimetype": "text/x-python",
   "name": "python",
   "nbconvert_exporter": "python",
   "pygments_lexer": "ipython3",
   "version": "3.7.6"
  }
 },
 "nbformat": 4,
 "nbformat_minor": 4
}
