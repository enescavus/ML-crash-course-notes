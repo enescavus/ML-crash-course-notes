{
 "cells": [
  {
   "cell_type": "markdown",
   "metadata": {},
   "source": [
    "# Static ( Offline ) vs. Dynamic ( Online ) Training"
   ]
  },
  {
   "cell_type": "markdown",
   "metadata": {},
   "source": [
    "**Static Model :** Bu modelimiz offline olarar eğitilir. Elimizdeki bütün veriyi modele veririz. Eğitilmiş bu modeli daha sonra uzun bir süre boyunca kullanabiliriz.\n",
    "\n",
    "Eğer zamanla değişmeyeceğine inandığınız veriler üzerinde çalışıyorsanız static modeli kullanabilirsiniz. \n",
    "\n",
    "\n",
    "**_Artıları_:** \n",
    "\n",
    "- Maliyeti dert etmeye gerek yok çünkü bir kez eğitip sürekli kullanabilirsiniz.\n",
    "- Büyük verileri alıp bir kerede işleyebilirsiniz.\n",
    "- Tahminlerden önce doğrulama şansımız vardır.\n",
    "\n",
    "**_Eksileri_:** \n",
    "\n",
    "- Sadece bugüne kadar bildiğimiz, elde ettiğimiz veriler üzerinde sağlıklı çıkarımlar yapabilecektir.\n",
    "\n",
    "\n",
    "\n",
    "--- \n",
    "\n",
    "\n",
    "\n",
    "**Dynamic Model :** Bu modelimiz online ( sürekli ) olarak eğitilir. Modele sürekli olarak güncel veri akışı vardır. \n",
    "\n",
    "Günümüzdeki veriler her geçen gün - ay - yıl değişebilmektedir ve bazı şeylerin değeri artarken bazılarının ise azalabilmektedir. Bu gibi durumlarda kendini sürekli güncelleme özelliğine sahip Dynamic modeli kullanabilirsiniz. \n",
    "\n",
    "**_Artıları_:**\n",
    "\n",
    "- Değişen veriler ile uğraşırken uzun süre boyunca kullanabilirsiniz.\n",
    "\n",
    "**_Eksileri_:** \n",
    "\n",
    "- Sürekli gözlemlenmesi gerekebilir çünkü verilerimiz sürekli değişebilmektedir.\n",
    "\n",
    "\n",
    "\n",
    "---\n",
    "---\n"
   ]
  },
  {
   "cell_type": "markdown",
   "metadata": {},
   "source": [
    "# Data Dependencies"
   ]
  },
  {
   "cell_type": "markdown",
   "metadata": {},
   "source": [
    "Veriye bağımlılık olarak çevirebiliriz. Modelimizi besleyeceğimiz verileri gözden geçirmek her zaman önemlidir çünkü ne verirsek onu alıyoruz. Gerçekçi ve anlamlı veriler ile eğitim yapmalıyız. Birkaç kriteri birlikte inceleyelim: \n",
    "\n",
    "- **Güvenilirlik:** Verilerimiz güvenilir bir kaynaktan mı alınıyor ? \n",
    "- **Versiyonlama:** Tüm ihtimalleri hesapladık mı, yoksa verilemiz gelecekte değişkenlik gösterebilir mi, ya da sadece belli bir dönemin verileri mi var elimizde? Dikkat etmemiz gerekli!\n",
    "- **Gereklilik:** Regularization'ı hatırlayın! belki de bazı özelliklerimiz modelimiz için gerekli değildir hatta zararlı etki bile bırakabilir?\n",
    "- **Bağlılık:** Herhangi birkaç özelliğimiz arasında ilişkiler var mı? Bu özellikler birbirine nasıl etkide bulunuyor? Pozitif? Negatif?\n",
    "\n",
    "Bu gibi kriterleri kullanarak modelimize veriyi vermeden önce bir göz gezdirip veride temizlik, güncelleme yapmamız gereklidir."
   ]
  },
  {
   "cell_type": "markdown",
   "metadata": {},
   "source": [
    "Ek Kaynaklar\n",
    "\n",
    "- [Static vs Dynamic](https://developers.google.com/machine-learning/crash-course/static-vs-dynamic-training/video-lecture)\n",
    "- [Data Dependencies](https://developers.google.com/machine-learning/crash-course/data-dependencies/video-lecture)"
   ]
  },
  {
   "cell_type": "markdown",
   "metadata": {},
   "source": [
    "**_Enes Çavuş_**"
   ]
  },
  {
   "cell_type": "code",
   "execution_count": null,
   "metadata": {},
   "outputs": [],
   "source": []
  }
 ],
 "metadata": {
  "kernelspec": {
   "display_name": "Python 3",
   "language": "python",
   "name": "python3"
  },
  "language_info": {
   "codemirror_mode": {
    "name": "ipython",
    "version": 3
   },
   "file_extension": ".py",
   "mimetype": "text/x-python",
   "name": "python",
   "nbconvert_exporter": "python",
   "pygments_lexer": "ipython3",
   "version": "3.7.6"
  }
 },
 "nbformat": 4,
 "nbformat_minor": 4
}
