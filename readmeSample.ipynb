{
 "cells": [
  {
   "cell_type": "markdown",
   "metadata": {},
   "source": [
    "# **Google's Machine Learning Crash Course Notes**\n"
   ]
  },
  {
   "cell_type": "markdown",
   "metadata": {},
   "source": [
    "### Notlar 1 aylık süreç boyunca haftalık olarak güncellenmiştir. \n",
    "\n",
    "### Bu kursta mentorluk programı ile bizlere yardımcı olan [Google Developers](https://twitter.com/googledevs), [Deep Learning Türkiye](https://twitter.com/deeplearningtr?ref_src=twsrc%5Egoogle%7Ctwcamp%5Eserp%7Ctwgr%5Eauthor) ve [Turkish AI Hub](https://twitter.com/TurkishAIHub) ailelerine teşekkür ediyorum. \n",
    "\n",
    "\n",
    "\n",
    "**_Not:_** Tüm notlar [bu kaynak](https://developers.google.com/machine-learning/crash-course/ml-intro)tan esinlenerek ve ek araştırmalardan yararlanarak hazırlanmıştır. Notlarda kullanılan kaynaklar her notebook sonuna eklenmiştir.  \n",
    "\n",
    "**_Not 2:_** Bu _repository_, klavye hatalarını düzeltmek ve notları daha yararlı hale getirmek amacıyla güncellenmektedir.\n",
    "\n",
    "---"
   ]
  },
  {
   "cell_type": "markdown",
   "metadata": {},
   "source": [
    "## Week 1 ( Tamamlandı )\n",
    "\n",
    "- [Start - Framing](Week1/Framing.ipynb)\n",
    "- [Descending into ML](Week1/DescendingIntoML.ipynb)\n",
    "- [Reducing Loss with Tensorflow Exercise](Week1/RedLossAndTF.ipynb)\n",
    "- [Train - Test - Validation](Week1/TrainTestValidation.ipynb)\n",
    "\n",
    "---\n",
    "\n"
   ]
  },
  {
   "cell_type": "markdown",
   "metadata": {},
   "source": [
    "## Week 2 ( Tamamlandı )\n",
    "\n",
    "- [Representation](Week2/Representation.ipynb)\n",
    "- [Feature Crosses](Week2/FeatureCrosses.ipynb)\n",
    "- [Regularization: Simplicity](Week2/Regularization.ipynb)\n",
    "- [Logistic Regression](Week2/LogisticRegression.ipynb)\n",
    "\n",
    "---"
   ]
  },
  {
   "cell_type": "markdown",
   "metadata": {},
   "source": [
    "\n",
    "\n",
    "## Week 3 ( Tamamlandı )\n",
    "\n",
    "- [Classification](Week3/Classification.ipynb)\n",
    "- [Regularization: Sparsity ](Week3/L1_regularization.ipynb)\n",
    "- [Neural Networks](Week3/Neuralnetworks.ipynb)\n",
    "- [Neural Nets Colab Exercise](Week3/NeuralNetsColab.ipynb)\n",
    "- [Multi Class Neural Nets](Week3/MultiClassNets.ipynb)\n",
    "---"
   ]
  },
  {
   "cell_type": "markdown",
   "metadata": {},
   "source": [
    "\n",
    "## Week 4 ( Tamamlandı )\n",
    "\n",
    "- [Embeddings](Week4/Embeddings.ipynb)\n",
    "- [Static vs. Dynamic - Dependencies [ ML Engineering ]](Week4/StaticDynamicVeDataDep.ipynb)\n",
    "- [Fairness [ ML Engineering ]](Week4/Fairness.ipynb)\n",
    "\n",
    "---"
   ]
  },
  {
   "cell_type": "markdown",
   "metadata": {},
   "source": [
    "\n",
    "**_Enes Çavuş_**  \n",
    "İletişim: [LinkedIn](https://www.linkedin.com/in/enes-%C3%A7avu%C5%9F-057376175)\n"
   ]
  },
  {
   "cell_type": "code",
   "execution_count": null,
   "metadata": {},
   "outputs": [],
   "source": []
  }
 ],
 "metadata": {
  "kernelspec": {
   "display_name": "Python 3",
   "language": "python",
   "name": "python3"
  },
  "language_info": {
   "codemirror_mode": {
    "name": "ipython",
    "version": 3
   },
   "file_extension": ".py",
   "mimetype": "text/x-python",
   "name": "python",
   "nbconvert_exporter": "python",
   "pygments_lexer": "ipython3",
   "version": "3.7.6"
  }
 },
 "nbformat": 4,
 "nbformat_minor": 4
}
